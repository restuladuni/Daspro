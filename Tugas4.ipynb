{
 "cells": [
  {
   "cell_type": "markdown",
   "id": "9fb0e34b-8e04-4451-bb2b-e6dccb0927ab",
   "metadata": {},
   "source": [
    "<h1>Operator Aritmatika</h1>"
   ]
  },
  {
   "cell_type": "code",
   "execution_count": 2,
   "id": "4cad30ca-eaf3-4691-bb06-563da32d286d",
   "metadata": {},
   "outputs": [
    {
     "name": "stdout",
     "output_type": "stream",
     "text": [
      "setiap orang akan menerima apel sebanyak: 3.0\n",
      "total apel budi sekarang adalah sebanyak: 20\n"
     ]
    }
   ],
   "source": [
    "jumlahApel = 12\n",
    "jumlahTeman = 4\n",
    "\n",
    "apelPerTeman = jumlahApel / jumlahTeman\n",
    "print(\"setiap orang akan menerima apel sebanyak:\",apelPerTeman)\n",
    "\n",
    "tambahanApel = 8\n",
    "totalApel = jumlahApel + tambahanApel\n",
    "\n",
    "print(\"total apel budi sekarang adalah sebanyak:\",totalApel)"
   ]
  },
  {
   "cell_type": "markdown",
   "id": "c8ebc4ca-0e86-4a5d-bf68-bbb855421fb8",
   "metadata": {},
   "source": [
    "<h1>Operator perbandingan</h1>"
   ]
  },
  {
   "cell_type": "code",
   "execution_count": 5,
   "id": "ac3d7bcd-a189-4b16-9325-232eae20a9ef",
   "metadata": {},
   "outputs": [
    {
     "name": "stdout",
     "output_type": "stream",
     "text": [
      "Apakah 160 > 165 ? False\n",
      "Apakah 160 < 165 ? True\n",
      "Apakah 160 >= 165 ? False\n",
      "Apakah 160 <= 165 ? True\n",
      "Apakah 160 == 165 ? False\n",
      "Apakah 160 != 165 ? True\n",
      "Andi lebih tinggi dari Siti\n"
     ]
    }
   ],
   "source": [
    "siti = 160 \n",
    "andi = 165\n",
    "\n",
    "print(\"Apakah\", siti, \">\", andi, \"?\", siti > andi)\n",
    "print(\"Apakah\", siti, \"<\", andi, \"?\", siti < andi)\n",
    "print(\"Apakah\", siti, \">=\", andi, \"?\", siti >= andi)\n",
    "print(\"Apakah\", siti, \"<=\", andi, \"?\", siti <= andi)\n",
    "print(\"Apakah\", siti, \"==\", andi, \"?\", siti == andi)\n",
    "print(\"Apakah\", siti, \"!=\", andi, \"?\", siti != andi)\n",
    "hasil = \"Andi lebih tinggi dari Siti\" if andi > siti else \"Siti lebih tinggi dari Andi\"\n",
    "print(hasil)"
   ]
  },
  {
   "cell_type": "markdown",
   "id": "67ab6499-d27a-48db-b0a6-c625b749cfc9",
   "metadata": {},
   "source": [
    "<h1>Operator logika</h1>"
   ]
  },
  {
   "cell_type": "code",
   "execution_count": 8,
   "id": "50ef1a4c-78fd-49fd-b6f1-9a1b13732b64",
   "metadata": {},
   "outputs": [
    {
     "name": "stdout",
     "output_type": "stream",
     "text": [
      "apakah budi bisa bermain di luar True\n"
     ]
    }
   ],
   "source": [
    "cuacaCerah = True\n",
    "prSelesai = True\n",
    "\n",
    "bisaBermain = cuacaCerah and prSelesai\n",
    "print(\"apakah budi bisa bermain di luar\",bisaBermain)"
   ]
  },
  {
   "cell_type": "markdown",
   "id": "be544506-de31-4a56-905b-9557017b4561",
   "metadata": {},
   "source": [
    "<h1>Operator Bitwise</h1>"
   ]
  },
  {
   "cell_type": "code",
   "execution_count": 11,
   "id": "cca03b7c-50da-428a-85b0-953631c7967c",
   "metadata": {},
   "outputs": [
    {
     "name": "stdin",
     "output_type": "stream",
     "text": [
      "Insert Bilangan 1: 2\n",
      "Insert Bilangan 2: 3\n"
     ]
    },
    {
     "name": "stdout",
     "output_type": "stream",
     "text": [
      "\n",
      "0b10\n",
      "0b11\n",
      "========&\n",
      "0b10 = 2\n",
      "\n",
      "0b10\n",
      "0b11\n",
      "========|\n",
      "0b11 = 3\n",
      "\n",
      "0b10\n",
      "0b11\n",
      "========^\n",
      "0b1 = 1\n"
     ]
    }
   ],
   "source": [
    "num1 = int(input(\"Insert Bilangan 1:\"))\n",
    "num2 = int(input(\"Insert Bilangan 2:\"))\n",
    "\n",
    "print()\n",
    "bAnd = num1 & num2\n",
    "print(bin(num1))\n",
    "print(bin(num2))\n",
    "print(\"========&\")\n",
    "print(bin(bAnd),\"=\",bAnd)\n",
    "\n",
    "print()\n",
    "bOr = num1 | num2\n",
    "print(bin(num1))\n",
    "print(bin(num2))\n",
    "print(\"========|\")\n",
    "print(bin(bOr),\"=\",bOr)\n",
    "\n",
    "print()\n",
    "bXOr = num1 ^ num2\n",
    "print(bin(num1))\n",
    "print(bin(num2))\n",
    "print(\"========^\")\n",
    "print(bin(bXOr),\"=\",bXOr)"
   ]
  },
  {
   "cell_type": "markdown",
   "id": "df6d254e-85ac-427c-b46b-7b40d4ce2c55",
   "metadata": {},
   "source": [
    "<h1>Operator Penugasan</h1>"
   ]
  },
  {
   "cell_type": "code",
   "execution_count": 14,
   "id": "f1f64539-8dbe-4c73-9880-aab46772b668",
   "metadata": {},
   "outputs": [
    {
     "name": "stdout",
     "output_type": "stream",
     "text": [
      "uangAwal 50000\n",
      "setelah di tambah 20000 = 70000\n",
      "dia membeli paket internet sebesar 30000 = 40000\n"
     ]
    }
   ],
   "source": [
    "uangAwal = 50000\n",
    "print(\"uangAwal\",uangAwal)\n",
    "uangAwal += 20000\n",
    "print(\"setelah di tambah 20000 =\",uangAwal)\n",
    "uangAwal -= 30000\n",
    "print(\"dia membeli paket internet sebesar 30000 =\",uangAwal)"
   ]
  },
  {
   "cell_type": "markdown",
   "id": "6664698d-5630-4d19-bd76-a66584c571be",
   "metadata": {},
   "source": [
    "<h1>Operator Keanggotaan</h1>"
   ]
  },
  {
   "cell_type": "code",
   "execution_count": 17,
   "id": "2e2353fb-5a31-49ba-9ee3-551c07b60e5e",
   "metadata": {},
   "outputs": [
    {
     "name": "stdin",
     "output_type": "stream",
     "text": [
      "Nama Peserta Lomba: 2\n"
     ]
    },
    {
     "name": "stdout",
     "output_type": "stream",
     "text": [
      "Apakah terdaftar di Daftar Peserta Lomba? 2 in ['andi', 'budi', 'citra', 'dewi'] ? False\n"
     ]
    },
    {
     "name": "stdin",
     "output_type": "stream",
     "text": [
      "Kata: 6\n"
     ]
    },
    {
     "name": "stdout",
     "output_type": "stream",
     "text": [
      "Apakah Kata terdaftar Kalima? 6 in saya suka belajar bahasa pyhton ? False\n"
     ]
    }
   ],
   "source": [
    "daftarPesertaLomba = [\"andi\",\"budi\",\"citra\",\"dewi\"]\n",
    "pesertaLomba = input(\"Nama Peserta Lomba:\")\n",
    "print(\"Apakah terdaftar di Daftar Peserta Lomba?\",pesertaLomba,\"in\",daftarPesertaLomba,\"?\",pesertaLomba in daftarPesertaLomba)\n",
    "\n",
    "kalimat = \"saya suka belajar bahasa pyhton\"\n",
    "kataYangDiCari = input(\"Kata:\")\n",
    "print(\"Apakah Kata terdaftar Kalima?\",kataYangDiCari,\"in\",kalimat,\"?\",kataYangDiCari in kalimat)"
   ]
  },
  {
   "cell_type": "markdown",
   "id": "f62de690-9abe-49c8-9cd4-6a1371b8f553",
   "metadata": {},
   "source": [
    "<h1>Operator Identitas</h1>"
   ]
  },
  {
   "cell_type": "code",
   "execution_count": 20,
   "id": "43604254-9244-488d-a7d3-621a827f71b8",
   "metadata": {},
   "outputs": [
    {
     "name": "stdout",
     "output_type": "stream",
     "text": [
      "Alamat Memori x 140709099743960\n",
      "Alamat Memori y 1904943360560\n",
      "Alamat Memori z 140709099743960\n",
      "Apakah a is b? False\n",
      "Apakah b is a? False\n",
      "Apakah a is not b? True\n",
      "Apakah b is not a? True\n"
     ]
    }
   ],
   "source": [
    "x = 10\n",
    "y = \"10\"\n",
    "z = x\n",
    "\n",
    "print(\"Alamat Memori x\",id(x))\n",
    "print(\"Alamat Memori y\",id(y))\n",
    "print(\"Alamat Memori z\",id(z))\n",
    "\n",
    "a = 100\n",
    "b = \"100\"\n",
    "\n",
    "print(\"Apakah a is b?\",a is b)\n",
    "print(\"Apakah b is a?\",b is a)\n",
    "print(\"Apakah a is not b?\",a is not b)\n",
    "print(\"Apakah b is not a?\",b is not a)"
   ]
  },
  {
   "cell_type": "markdown",
   "id": "34bd6e07-acae-47bd-8258-83bbc46b18f9",
   "metadata": {},
   "source": [
    "<h1>Operator Ternary</h1>"
   ]
  },
  {
   "cell_type": "code",
   "execution_count": 25,
   "id": "1d675fc1-ae4d-49a5-aef8-f2339a596db4",
   "metadata": {},
   "outputs": [
    {
     "name": "stdin",
     "output_type": "stream",
     "text": [
      "Masukkan Angka:  77\n"
     ]
    },
    {
     "name": "stdout",
     "output_type": "stream",
     "text": [
      "Tidak lebih besar dari 100\n"
     ]
    },
    {
     "name": "stdin",
     "output_type": "stream",
     "text": [
      "Masukkan Nilai:  77\n"
     ]
    },
    {
     "name": "stdout",
     "output_type": "stream",
     "text": [
      "Lulus\n"
     ]
    }
   ],
   "source": [
    "angka = int(input(\"Masukkan Angka: \"))\n",
    "hasil = \"Lebih besar dari 100\" if angka > 100 else \"Tidak lebih besar dari 100\"\n",
    "hasil2 = \"Adalah Bilangan itu Sendiri\" if angka == 100 else \"\"\n",
    "print(hasil)\n",
    "if hasil2: print(hasil2)\n",
    "\n",
    "\n",
    "nilai = int(input(\"Masukkan Nilai: \"))\n",
    "hasil = \"Lulus\" if nilai >= 70 else \"Tidak Lulus\"\n",
    "print(hasil)"
   ]
  },
  {
   "cell_type": "code",
   "execution_count": null,
   "id": "9907f5b0-9df7-48ec-8c99-3893c6217381",
   "metadata": {},
   "outputs": [],
   "source": []
  }
 ],
 "metadata": {
  "kernelspec": {
   "display_name": "Python [conda env:base] *",
   "language": "python",
   "name": "conda-base-py"
  },
  "language_info": {
   "codemirror_mode": {
    "name": "ipython",
    "version": 3
   },
   "file_extension": ".py",
   "mimetype": "text/x-python",
   "name": "python",
   "nbconvert_exporter": "python",
   "pygments_lexer": "ipython3",
   "version": "3.12.7"
  }
 },
 "nbformat": 4,
 "nbformat_minor": 5
}
